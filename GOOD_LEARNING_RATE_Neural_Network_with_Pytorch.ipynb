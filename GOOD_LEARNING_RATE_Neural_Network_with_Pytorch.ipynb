{
  "nbformat": 4,
  "nbformat_minor": 0,
  "metadata": {
    "colab": {
      "name": "GOOD_LEARNING-RATE_Neural_Network_with_Pytorch.ipynb",
      "provenance": [],
      "machine_shape": "hm",
      "authorship_tag": "ABX9TyOISExn+F7RCrPWEoOD/WJg",
      "include_colab_link": true
    },
    "kernelspec": {
      "name": "python3",
      "display_name": "Python 3"
    },
    "language_info": {
      "name": "python"
    },
    "accelerator": "GPU",
    "gpuClass": "standard"
  },
  "cells": [
    {
      "cell_type": "markdown",
      "metadata": {
        "id": "view-in-github",
        "colab_type": "text"
      },
      "source": [
        "<a href=\"https://colab.research.google.com/github/EddyGiusepe/Neural_Network_from_scratch_only_with_Python/blob/main/GOOD_LEARNING_RATE_Neural_Network_with_Pytorch.ipynb\" target=\"_parent\"><img src=\"https://colab.research.google.com/assets/colab-badge.svg\" alt=\"Open In Colab\"/></a>"
      ]
    },
    {
      "cell_type": "markdown",
      "source": [
        "<h2 align=\"center\">Rede Neural usando PyTorch</h2>\n",
        "\n",
        "\n",
        "Data Scientist.: Dr.Eddy Giusepe Chirinos Isidro"
      ],
      "metadata": {
        "id": "ZC3G5WjPd_0M"
      }
    },
    {
      "cell_type": "markdown",
      "source": [
        "Este script foi baseado no tutorial de [Pepe Cantoral, PhD](https://www.youtube.com/watch?v=qQELiV1_GHA&list=PLWzLQn_hxe6ZlC9-YMt3nN0Eo-ZpOJuXd&index=21).\n",
        "\n",
        "\n",
        "Neste estudo usaremos `PyTorch` com a ideia de aproveitar o este Framework de Deep Learning. Para começar utilizaremos apenas o `Modulo Sequential`."
      ],
      "metadata": {
        "id": "fBT-Fk2JeLBM"
      }
    },
    {
      "cell_type": "markdown",
      "source": [
        "# PyTorch"
      ],
      "metadata": {
        "id": "6OvvE5qIfeZT"
      }
    },
    {
      "cell_type": "code",
      "source": [
        "from google.colab import drive\n",
        "drive.mount('/content/drive')"
      ],
      "metadata": {
        "colab": {
          "base_uri": "https://localhost:8080/"
        },
        "id": "43Lu25eWgDXq",
        "outputId": "88c01783-1317-47b7-eb41-d765234d6fc7"
      },
      "execution_count": 1,
      "outputs": [
        {
          "output_type": "stream",
          "name": "stdout",
          "text": [
            "Drive already mounted at /content/drive; to attempt to forcibly remount, call drive.mount(\"/content/drive\", force_remount=True).\n"
          ]
        }
      ]
    },
    {
      "cell_type": "markdown",
      "source": [
        "## Importamos as nossas bibliotecas"
      ],
      "metadata": {
        "id": "Wn3H071Gfu8j"
      }
    },
    {
      "cell_type": "code",
      "execution_count": 2,
      "metadata": {
        "id": "6RQwkGfudoPp"
      },
      "outputs": [],
      "source": [
        "import numpy as np\n",
        "import matplotlib.pyplot as plt\n",
        "%matplotlib inline\n",
        "\n",
        "import random\n",
        "\n",
        "import warnings\n",
        "warnings.filterwarnings(\"ignore\", category=DeprecationWarning)\n",
        "\n",
        "# PyTorch \n",
        "import torch\n",
        "import torch.nn as nn\n",
        "import torch.nn.functional as F"
      ]
    },
    {
      "cell_type": "markdown",
      "source": [
        "# Importamos as nossas Imagens"
      ],
      "metadata": {
        "id": "wwg2npmuf005"
      }
    },
    {
      "cell_type": "code",
      "source": [
        "# Importar MNIST\n",
        "# Ver vídeo para aprender a importar estes Dados: https://www.youtube.com/watch?v=7cMKAlnSmpM\n",
        "\n",
        "import gzip\n",
        "import os\n",
        "from os.path import isfile, join\n",
        "def list_files(mnist_path):\n",
        "    return [join(mnist_path,f) for f in os.listdir(mnist_path) if isfile(join(mnist_path, f))]\n",
        "\n",
        "def get_images(mnist_path):\n",
        "    for f in list_files(mnist_path):\n",
        "        if 'train-images' in f:\n",
        "            with gzip.open(f, 'rb') as data:\n",
        "                _ = int.from_bytes(data.read(4), 'big')\n",
        "                num_images = int.from_bytes(data.read(4), 'big')\n",
        "                rows = int.from_bytes(data.read(4), 'big')\n",
        "                cols = int.from_bytes(data.read(4), 'big')\n",
        "                train_images = data.read()\n",
        "                x_train = np.frombuffer(train_images, dtype=np.uint8)\n",
        "                x_train = x_train.reshape((num_images, rows, cols))\n",
        "        elif 'train-labels' in f:\n",
        "            with gzip.open(f, 'rb') as data:\n",
        "                train_labels = data.read()[8:]\n",
        "                y_train = np.frombuffer(train_labels, dtype=np.uint8)\n",
        "        if 't10k-images' in f:\n",
        "            with gzip.open(f, 'rb') as data:\n",
        "                _ = int.from_bytes(data.read(4), 'big')\n",
        "                num_images = int.from_bytes(data.read(4), 'big')\n",
        "                rows = int.from_bytes(data.read(4), 'big')\n",
        "                cols = int.from_bytes(data.read(4), 'big')\n",
        "                test_images = data.read()\n",
        "                x_test = np.frombuffer(test_images, dtype=np.uint8)\n",
        "                x_test = x_test.reshape((num_images, rows, cols))\n",
        "        elif 't10k-labels' in f:\n",
        "            with gzip.open(f, 'rb') as data:\n",
        "                test_labels = data.read()[8:]\n",
        "                y_test = np.frombuffer(test_labels, dtype=np.uint8)\n",
        "    \n",
        "    return x_train, y_train, x_test, y_test    "
      ],
      "metadata": {
        "id": "9xTGitlWfjHq"
      },
      "execution_count": 3,
      "outputs": []
    },
    {
      "cell_type": "code",
      "source": [
        "# Aqui passamos o caminho: MNIST path\n",
        "# Obviamente os Dados já foram baixados com antecedencia\n",
        "\n",
        "mnist_path = '/content/drive/MyDrive/2_DEEP_LEARNING_REDES_NEURAIS_Jorge/1_Pytorch_Deep_Learning/Pytorch_examples/Rede_neural_exemplo_Pytorch/data/MNIST/raw/mnist_raw'"
      ],
      "metadata": {
        "id": "8JnCfstQf_m9"
      },
      "execution_count": 4,
      "outputs": []
    },
    {
      "cell_type": "code",
      "source": [
        "# Aqui utilizamos a função \"get_images()\" \n",
        "x_train_num, y_train_num, x_test_num, y_test_num = get_images(mnist_path)\n",
        "\n",
        "\n",
        "# Aquí dividimos nuestros Datos en train, val y test\n",
        "# También los convertimos a vectores\n",
        "x_train = x_train_num[:50000].reshape(50000, -1).astype(np.float32)\n",
        "y_train = y_train_num[:50000].reshape(50000, 1)\n",
        "\n",
        "x_val = x_train_num[50000:].reshape(10000, -1).astype(np.float)\n",
        "y_val = y_train_num[50000:].reshape(10000, 1)\n",
        "\n",
        "x_test = x_test_num.copy().reshape(10000, -1).astype(np.float)\n",
        "y_test = y_test_num.copy().reshape(10000, 1)\n"
      ],
      "metadata": {
        "id": "lY4TLUphgLEU"
      },
      "execution_count": 5,
      "outputs": []
    },
    {
      "cell_type": "markdown",
      "source": [
        "# Normalizar imagens"
      ],
      "metadata": {
        "id": "vVbU9zEfmV8Y"
      }
    },
    {
      "cell_type": "code",
      "source": [
        "# Normalizamos para ter uma média=0 e std=1\n",
        "\n",
        "def normalise(x_mean, x_std, x_data):\n",
        "  return (x_data - x_mean) / x_std\n"
      ],
      "metadata": {
        "id": "Q3cwjHOCilll"
      },
      "execution_count": 6,
      "outputs": []
    },
    {
      "cell_type": "code",
      "source": [
        "x_mean = x_train.mean()\n",
        "x_std = x_train.std()\n",
        "\n",
        "print(x_mean, x_std)"
      ],
      "metadata": {
        "colab": {
          "base_uri": "https://localhost:8080/"
        },
        "id": "hK4vzb63muDe",
        "outputId": "bd4e3480-2a52-450e-9ac9-d62d8194666e"
      },
      "execution_count": 7,
      "outputs": [
        {
          "output_type": "stream",
          "name": "stdout",
          "text": [
            "33.395157 78.66619\n"
          ]
        }
      ]
    },
    {
      "cell_type": "code",
      "source": [
        "# Aqui teremos nossos Dados Normalizados\n",
        "\n",
        "x_train = normalise(x_mean, x_std, x_train)\n",
        "x_val = normalise(x_mean, x_std, x_val)\n",
        "x_test = normalise(x_mean, x_std, x_test)"
      ],
      "metadata": {
        "id": "zvaEhL1_o6yO"
      },
      "execution_count": 8,
      "outputs": []
    },
    {
      "cell_type": "code",
      "source": [
        "# Verificando a média e std para Dados de Treinamento\n",
        "x_train.mean(), x_train.std()"
      ],
      "metadata": {
        "colab": {
          "base_uri": "https://localhost:8080/"
        },
        "id": "Dj0gnQ_CpZkJ",
        "outputId": "4a53ca83-3a4d-4ea3-d526-9406deebde26"
      },
      "execution_count": 9,
      "outputs": [
        {
          "output_type": "execute_result",
          "data": {
            "text/plain": [
              "(-3.1638146e-07, 0.99999934)"
            ]
          },
          "metadata": {},
          "execution_count": 9
        }
      ]
    },
    {
      "cell_type": "code",
      "source": [
        "# Verificando a média e std para Dados de Validação\n",
        "x_val.mean(), x_val.std()"
      ],
      "metadata": {
        "colab": {
          "base_uri": "https://localhost:8080/"
        },
        "id": "VF0P7uGaq6AM",
        "outputId": "abea1d98-3992-4e21-c852-0d4f1eeb1401"
      },
      "execution_count": 10,
      "outputs": [
        {
          "output_type": "execute_result",
          "data": {
            "text/plain": [
              "(-0.0058509559841872305, 0.9924333474151182)"
            ]
          },
          "metadata": {},
          "execution_count": 10
        }
      ]
    },
    {
      "cell_type": "markdown",
      "source": [
        "# Visualizamos algumas das nossas Imagens"
      ],
      "metadata": {
        "id": "hX2PiVT5rRDO"
      }
    },
    {
      "cell_type": "code",
      "source": [
        "x_test.shape"
      ],
      "metadata": {
        "colab": {
          "base_uri": "https://localhost:8080/"
        },
        "id": "MkCnjLTwrcct",
        "outputId": "2d581d3a-3f23-424c-c1da-e9d963a168f0"
      },
      "execution_count": 11,
      "outputs": [
        {
          "output_type": "execute_result",
          "data": {
            "text/plain": [
              "(10000, 784)"
            ]
          },
          "metadata": {},
          "execution_count": 11
        }
      ]
    },
    {
      "cell_type": "code",
      "source": [
        "y_train.shape"
      ],
      "metadata": {
        "colab": {
          "base_uri": "https://localhost:8080/"
        },
        "id": "Lwb2Or4JrozS",
        "outputId": "cf636b57-fc46-41f6-cf45-89ab7152f66b"
      },
      "execution_count": 12,
      "outputs": [
        {
          "output_type": "execute_result",
          "data": {
            "text/plain": [
              "(50000, 1)"
            ]
          },
          "metadata": {},
          "execution_count": 12
        }
      ]
    },
    {
      "cell_type": "code",
      "source": [
        "def plot_number(image):\n",
        "    plt.figure(figsize=(5,5))\n",
        "    plt.imshow(image.squeeze(), cmap=plt.get_cmap('gray'))\n",
        "    plt.axis('off')\n",
        "    plt.show()\n",
        "    "
      ],
      "metadata": {
        "id": "sGJuNNbJrPA2"
      },
      "execution_count": 13,
      "outputs": []
    },
    {
      "cell_type": "code",
      "source": [
        "rnd_idx = np.random.randint(len(y_test))\n",
        "print(f'A imagem printada representa um: {y_test[rnd_idx, 0]}')\n",
        "plot_number(x_test_num[rnd_idx])"
      ],
      "metadata": {
        "colab": {
          "base_uri": "https://localhost:8080/",
          "height": 322
        },
        "id": "OnPfGCTPrab4",
        "outputId": "91199c81-9474-40ab-c9b9-04ab792ab2d9"
      },
      "execution_count": 14,
      "outputs": [
        {
          "output_type": "stream",
          "name": "stdout",
          "text": [
            "A imagem printada representa um: 5\n"
          ]
        },
        {
          "output_type": "display_data",
          "data": {
            "text/plain": [
              "<Figure size 360x360 with 1 Axes>"
            ],
            "image/png": "[encoded data removed]"
          },
          "metadata": {
            "needs_background": "light"
          }
        }
      ]
    },
    {
      "cell_type": "markdown",
      "source": [
        "# Criamos a função de Mini-batches"
      ],
      "metadata": {
        "id": "Nfdv_697sKjn"
      }
    },
    {
      "cell_type": "code",
      "source": [
        "def create_minibatches(x, y, mb_size, shuffle = True):\n",
        "    '''\n",
        "    x  # Amostras, 784\n",
        "    y  # Amostras, 1\n",
        "    '''\n",
        "    assert x.shape[0] == y.shape[0], 'Erro em quantidade de amostras'\n",
        "    total_data = x.shape[0]\n",
        "    if shuffle: \n",
        "        idxs = np.arange(total_data)\n",
        "        np.random.shuffle(idxs)\n",
        "        x = x[idxs]\n",
        "        y = y[idxs]  \n",
        "    return ((x[i:i+mb_size], y[i:i+mb_size]) for i in range(0, total_data, mb_size))"
      ],
      "metadata": {
        "id": "0ZPjepGOraZC"
      },
      "execution_count": 15,
      "outputs": []
    },
    {
      "cell_type": "markdown",
      "source": [
        "# Agora sim ... PyTorch\n",
        "\n",
        "# Converter NumPy array a PyTorch"
      ],
      "metadata": {
        "id": "RX2tbIZHsmSe"
      }
    },
    {
      "cell_type": "code",
      "source": [
        "# Convertendo para Tensores do PyTorch\n",
        "\n",
        "x_train_tensor = torch.tensor(x_train.copy())\n",
        "y_train_tensor = torch.tensor(y_train.copy())\n",
        "\n",
        "x_val_tensor = torch.tensor(x_val.copy())\n",
        "y_val_tensor = torch.tensor(y_val.copy())\n",
        "\n",
        "x_test_tensor = torch.tensor(x_test.copy())\n",
        "y_test_tensor = torch.tensor(y_test.copy())\n"
      ],
      "metadata": {
        "id": "-1dRlUkaraW2"
      },
      "execution_count": 16,
      "outputs": []
    },
    {
      "cell_type": "markdown",
      "source": [
        "# Usar GPU de estiver disponível"
      ],
      "metadata": {
        "id": "hTsx5PwMvch-"
      }
    },
    {
      "cell_type": "code",
      "source": [
        "if torch.cuda.is_available():\n",
        "    device = torch.device('cuda')\n",
        "else:\n",
        "    device = torch.device('cpu')\n",
        "print(f'Estammos usando: {device}')"
      ],
      "metadata": {
        "colab": {
          "base_uri": "https://localhost:8080/"
        },
        "id": "0FIGoJ3draT9",
        "outputId": "130e817b-201e-45fb-fe65-d7cd8335b1a8"
      },
      "execution_count": 17,
      "outputs": [
        {
          "output_type": "stream",
          "name": "stdout",
          "text": [
            "Estammos usando: cuda\n"
          ]
        }
      ]
    },
    {
      "cell_type": "markdown",
      "source": [
        "# Calculamos Accuracy"
      ],
      "metadata": {
        "id": "l8DJSDKIxB93"
      }
    },
    {
      "cell_type": "code",
      "source": [
        "def accuracy(model, x, y, mb_size):\n",
        "    num_correct = 0\n",
        "    num_total = 0\n",
        "    model.eval()\n",
        "    model = model.to(device=device)\n",
        "    with torch.no_grad():\n",
        "        for (xi, yi) in create_minibatches(x, y, mb_size):\n",
        "            xi = xi.to(device=device, dtype = torch.float32)\n",
        "            yi = yi.to(device=device, dtype = torch.long)\n",
        "            scores = model(xi) # mb_size, 10\n",
        "            _, pred = scores.max(dim=1) #pred shape (mb_size ) - \"dim\" é do Pytorch\n",
        "            num_correct += (pred == yi.squeeze()).sum() # pred shape (mb_size), yi shape (mb_size, 1). squeeze() eliminará esse 1.\n",
        "            num_total += pred.size(0)\n",
        "\n",
        "            return float(num_correct)/num_total"
      ],
      "metadata": {
        "id": "SK43KKoAxJy0"
      },
      "execution_count": 18,
      "outputs": []
    },
    {
      "cell_type": "markdown",
      "source": [
        "# Loop de Treinamento"
      ],
      "metadata": {
        "id": "fagzNo1tzmzK"
      }
    },
    {
      "cell_type": "code",
      "source": [
        "def train(model, optimiser, mb_size, epochs=100):\n",
        "    model = model.to(device=device)\n",
        "    for epoch in range(epochs):\n",
        "        for (xi, yi) in create_minibatches(x_train_tensor, y_train_tensor, mb_size):\n",
        "            model.train()\n",
        "            xi = xi.to(device=device, dtype=torch.float32)\n",
        "            yi = yi.to(device=device, dtype=torch.long)\n",
        "            scores = model(xi)\n",
        "            # funcion cost\n",
        "            cost = F.cross_entropy(input= scores, target=yi.squeeze())\n",
        "            optimiser.zero_grad()\n",
        "            cost.backward()\n",
        "            optimiser.step()\n",
        "            \n",
        "        # Aqui vamos a IMPRIMIR a cada 20 epoch:\n",
        "        if epoch % 20 == 0:\n",
        "          \n",
        "          print(f'Epoch: {epoch}, costo: {cost.item()}, accuracy: {accuracy(model, x_val_tensor, y_val_tensor, mb_size)}')"
      ],
      "metadata": {
        "id": "AyFJkxZZxJwT"
      },
      "execution_count": 29,
      "outputs": []
    },
    {
      "cell_type": "markdown",
      "source": [
        "# Modelo usando Sequential"
      ],
      "metadata": {
        "id": "Nd2DukOW75BN"
      }
    },
    {
      "cell_type": "code",
      "source": [
        "#Instanciar modelo\n",
        "hidden1 = 1000 # Neurônios\n",
        "hidden = 1000\n",
        "epochs = 100\n",
        "mb_size = 4096\n",
        "\n",
        "\n",
        "# Aqui começamos a PROCURAR um Learning Rate\n",
        "models = {} # Aqui salvamos os valores do LEARNING RATE\n",
        "# Buscar no intervalo [0.001, 1]\n",
        "for i in range(10):\n",
        "  j = -3*np.random.rand() # [0, 1]\n",
        "  lr = 10**j \n",
        "\n",
        "\n",
        "  # Criamos nosso Modelo\n",
        "  model1 = nn.Sequential(nn.Linear(in_features=784, out_features=hidden1), # Capa Linear\n",
        "                       nn.ReLU(), # Capa de função de Ativação\n",
        "                       nn.Linear(in_features=hidden1, out_features=hidden), # Outra capa Linear\n",
        "                       nn.ReLU(),\n",
        "                       nn.Linear(in_features=hidden, out_features=10)) # A nossa saída é 10, porque temos 10 classes\n",
        "\n",
        "\n",
        "  optimiser = torch.optim.SGD(model1.parameters(), lr=lr)\n",
        "\n",
        "  train(model1, optimiser, mb_size, epochs)\n",
        "  acc = accuracy(model1, x_val_tensor, y_val_tensor, mb_size)\n",
        "  print(f'com um lr: {lr} accuracy: {acc}')\n",
        "  print()\n",
        "  models[lr] = acc\n",
        "\n",
        "# Então o processo será treinado 10 vezes  "
      ],
      "metadata": {
        "colab": {
          "base_uri": "https://localhost:8080/"
        },
        "id": "51ddrGqLpGh3",
        "outputId": "ff5c74e1-a90d-4332-dd5f-4d86c169ef30"
      },
      "execution_count": 31,
      "outputs": [
        {
          "output_type": "stream",
          "name": "stdout",
          "text": [
            "Epoch: 0, costo: 1.8068968057632446, accuracy: 0.729736328125\n",
            "Epoch: 20, costo: 0.2715837061405182, accuracy: 0.933349609375\n",
            "Epoch: 40, costo: 0.2151944637298584, accuracy: 0.94775390625\n",
            "Epoch: 60, costo: 0.14574167132377625, accuracy: 0.962158203125\n",
            "Epoch: 80, costo: 0.11774542927742004, accuracy: 0.96875\n",
            "com um lr: 0.058737801613523495 accuracy: 0.967529296875\n",
            "\n",
            "Epoch: 0, costo: 2.3119945526123047, accuracy: 0.0732421875\n",
            "Epoch: 20, costo: 2.113234758377075, accuracy: 0.6083984375\n",
            "Epoch: 40, costo: 1.9088066816329956, accuracy: 0.7294921875\n",
            "Epoch: 60, costo: 1.6353808641433716, accuracy: 0.756103515625\n",
            "Epoch: 80, costo: 1.3552095890045166, accuracy: 0.79150390625\n",
            "com um lr: 0.0011545848075392505 accuracy: 0.829833984375\n",
            "\n",
            "Epoch: 0, costo: 1.5533427000045776, accuracy: 0.775634765625\n",
            "Epoch: 20, costo: 0.1754344254732132, accuracy: 0.940185546875\n",
            "Epoch: 40, costo: 0.15837019681930542, accuracy: 0.953857421875\n",
            "Epoch: 60, costo: 0.08913476765155792, accuracy: 0.96435546875\n",
            "Epoch: 80, costo: 0.08119498193264008, accuracy: 0.97119140625\n",
            "com um lr: 0.0807140685478816 accuracy: 0.975830078125\n",
            "\n",
            "Epoch: 0, costo: 1.2943142652511597, accuracy: 0.816650390625\n",
            "Epoch: 20, costo: 0.20504480600357056, accuracy: 0.94677734375\n",
            "Epoch: 40, costo: 0.12210149317979813, accuracy: 0.961181640625\n",
            "Epoch: 60, costo: 0.09149673581123352, accuracy: 0.970703125\n",
            "Epoch: 80, costo: 0.07319524884223938, accuracy: 0.973388671875\n",
            "com um lr: 0.10373958836322973 accuracy: 0.9755859375\n",
            "\n",
            "Epoch: 0, costo: 1.2638252973556519, accuracy: 0.7919921875\n",
            "Epoch: 20, costo: 0.1696828156709671, accuracy: 0.949951171875\n",
            "Epoch: 40, costo: 0.09517604112625122, accuracy: 0.96337890625\n",
            "Epoch: 60, costo: 0.09615445882081985, accuracy: 0.971923828125\n",
            "Epoch: 80, costo: 0.03854064270853996, accuracy: 0.97412109375\n",
            "com um lr: 0.11711361932690446 accuracy: 0.98193359375\n",
            "\n",
            "Epoch: 0, costo: 0.7215766310691833, accuracy: 0.775634765625\n",
            "Epoch: 20, costo: 0.05461844429373741, accuracy: 0.972412109375\n",
            "Epoch: 40, costo: 0.04106570780277252, accuracy: 0.978759765625\n",
            "Epoch: 60, costo: 0.01831408403813839, accuracy: 0.982177734375\n",
            "Epoch: 80, costo: 0.006049813702702522, accuracy: 0.980224609375\n",
            "com um lr: 0.3704656871666868 accuracy: 0.984130859375\n",
            "\n",
            "Epoch: 0, costo: 2.293898582458496, accuracy: 0.12841796875\n",
            "Epoch: 20, costo: 1.7834084033966064, accuracy: 0.739013671875\n",
            "Epoch: 40, costo: 1.1349403858184814, accuracy: 0.81689453125\n",
            "Epoch: 60, costo: 0.7607918977737427, accuracy: 0.858642578125\n",
            "Epoch: 80, costo: 0.5715529918670654, accuracy: 0.874755859375\n",
            "com um lr: 0.002685760754266345 accuracy: 0.88720703125\n",
            "\n",
            "Epoch: 0, costo: 1.2085069417953491, accuracy: 0.8193359375\n",
            "Epoch: 20, costo: 0.18212147057056427, accuracy: 0.950927734375\n",
            "Epoch: 40, costo: 0.1249871701002121, accuracy: 0.96484375\n",
            "Epoch: 60, costo: 0.08921653777360916, accuracy: 0.969482421875\n",
            "Epoch: 80, costo: 0.05291727930307388, accuracy: 0.97607421875\n",
            "com um lr: 0.11324184971767995 accuracy: 0.9794921875\n",
            "\n",
            "Epoch: 0, costo: 1.2469924688339233, accuracy: 0.427001953125\n",
            "Epoch: 20, costo: 0.07770346850156784, accuracy: 0.97314453125\n",
            "Epoch: 40, costo: 0.01561227347701788, accuracy: 0.980224609375\n",
            "Epoch: 60, costo: 0.007581550627946854, accuracy: 0.979736328125\n",
            "Epoch: 80, costo: 0.002898148028180003, accuracy: 0.9814453125\n",
            "com um lr: 0.5323659316241888 accuracy: 0.97998046875\n",
            "\n",
            "Epoch: 0, costo: 0.7901632785797119, accuracy: 0.85986328125\n",
            "Epoch: 20, costo: 0.07768739014863968, accuracy: 0.9677734375\n",
            "Epoch: 40, costo: 0.05556565523147583, accuracy: 0.974609375\n",
            "Epoch: 60, costo: 0.0214161965996027, accuracy: 0.978271484375\n",
            "Epoch: 80, costo: 0.009651785716414452, accuracy: 0.97900390625\n",
            "com um lr: 0.3005217091537711 accuracy: 0.980712890625\n",
            "\n"
          ]
        }
      ]
    },
    {
      "cell_type": "code",
      "source": [
        "# Visualizamos os valores de lr em ordem decrescente\n",
        "\n",
        "models_ord = sorted(models.items(), key=lambda x: x[1], reverse = True)\n",
        "\n",
        "models_ord"
      ],
      "metadata": {
        "colab": {
          "base_uri": "https://localhost:8080/"
        },
        "id": "acVEZ-KO4uwu",
        "outputId": "7438493e-e163-4cbd-c78b-3e1473e2fe48"
      },
      "execution_count": 34,
      "outputs": [
        {
          "output_type": "execute_result",
          "data": {
            "text/plain": [
              "[(0.3704656871666868, 0.984130859375),\n",
              " (0.11711361932690446, 0.98193359375),\n",
              " (0.3005217091537711, 0.980712890625),\n",
              " (0.5323659316241888, 0.97998046875),\n",
              " (0.11324184971767995, 0.9794921875),\n",
              " (0.0807140685478816, 0.975830078125),\n",
              " (0.10373958836322973, 0.9755859375),\n",
              " (0.058737801613523495, 0.967529296875),\n",
              " (0.002685760754266345, 0.88720703125),\n",
              " (0.0011545848075392505, 0.829833984375)]"
            ]
          },
          "metadata": {},
          "execution_count": 34
        }
      ]
    },
    {
      "cell_type": "code",
      "source": [
        "# Sabendo os lr, agora podemos fazer uma busca linear. Já que sabemos mais o menos o valor\n",
        "\n",
        "\n",
        "#Instanciar modelo\n",
        "hidden1 = 1000 # Neurônios\n",
        "hidden = 1000\n",
        "epochs = 100\n",
        "mb_size = 4096\n",
        "\n",
        "\n",
        "# Aqui começamos a PROCURAR um Learning Rate\n",
        "models = {} # Aqui salvamos os valores do LEARNING RATE\n",
        "# Buscar no intervalo [0.001, 1]\n",
        "for i in range(10):\n",
        "  #j = -3*np.random.rand() # [0, 1]\n",
        "  #lr = 10**j \n",
        "  lr = random.randrange(300, 400)/1000\n",
        "\n",
        "  # Criamos nosso Modelo\n",
        "  model1 = nn.Sequential(nn.Linear(in_features=784, out_features=hidden1), # Capa Linear\n",
        "                       nn.ReLU(), # Capa de função de Ativação\n",
        "                       nn.Linear(in_features=hidden1, out_features=hidden), # Outra capa Linear\n",
        "                       nn.ReLU(),\n",
        "                       nn.Linear(in_features=hidden, out_features=10)) # A nossa saída é 10, porque temos 10 classes\n",
        "\n",
        "\n",
        "  optimiser = torch.optim.SGD(model1.parameters(), lr=lr)\n",
        "\n",
        "  train(model1, optimiser, mb_size, epochs)\n",
        "  acc = accuracy(model1, x_val_tensor, y_val_tensor, mb_size)\n",
        "  print(f'com um lr: {lr} accuracy: {acc}')\n",
        "  print()\n",
        "  models[lr] = acc\n",
        "\n",
        "# Então o processo será treinado 10 vezes  "
      ],
      "metadata": {
        "colab": {
          "base_uri": "https://localhost:8080/"
        },
        "id": "vqaFuPfG4ut0",
        "outputId": "d6e38299-d151-4343-cacf-b33d307a8ebd"
      },
      "execution_count": 38,
      "outputs": [
        {
          "output_type": "stream",
          "name": "stdout",
          "text": [
            "Epoch: 0, costo: 0.6976284980773926, accuracy: 0.807861328125\n",
            "Epoch: 20, costo: 0.08700672537088394, accuracy: 0.968994140625\n",
            "Epoch: 40, costo: 0.01995554193854332, accuracy: 0.9775390625\n",
            "Epoch: 60, costo: 0.01365243922919035, accuracy: 0.97900390625\n",
            "Epoch: 80, costo: 0.007882511243224144, accuracy: 0.97998046875\n",
            "com um lr: 0.365 accuracy: 0.9794921875\n",
            "\n",
            "Epoch: 0, costo: 0.7646141052246094, accuracy: 0.854248046875\n",
            "Epoch: 20, costo: 0.0773644745349884, accuracy: 0.968994140625\n",
            "Epoch: 40, costo: 0.03738639876246452, accuracy: 0.978271484375\n",
            "Epoch: 60, costo: 0.01837611384689808, accuracy: 0.979248046875\n",
            "Epoch: 80, costo: 0.012001965194940567, accuracy: 0.980224609375\n",
            "com um lr: 0.317 accuracy: 0.982177734375\n",
            "\n",
            "Epoch: 0, costo: 0.6578437089920044, accuracy: 0.729248046875\n",
            "Epoch: 20, costo: 0.08340995013713837, accuracy: 0.97021484375\n",
            "Epoch: 40, costo: 0.03490166738629341, accuracy: 0.97607421875\n",
            "Epoch: 60, costo: 0.01805351860821247, accuracy: 0.981689453125\n",
            "Epoch: 80, costo: 0.006835401989519596, accuracy: 0.98388671875\n",
            "com um lr: 0.333 accuracy: 0.982421875\n",
            "\n",
            "Epoch: 0, costo: 0.6323493123054504, accuracy: 0.77587890625\n",
            "Epoch: 20, costo: 0.07136780023574829, accuracy: 0.967529296875\n",
            "Epoch: 40, costo: 0.03967856615781784, accuracy: 0.9775390625\n",
            "Epoch: 60, costo: 0.019035877659916878, accuracy: 0.978515625\n",
            "Epoch: 80, costo: 0.009786166250705719, accuracy: 0.983642578125\n",
            "com um lr: 0.349 accuracy: 0.984130859375\n",
            "\n",
            "Epoch: 0, costo: 0.7092565298080444, accuracy: 0.829833984375\n",
            "Epoch: 20, costo: 0.09257746487855911, accuracy: 0.96875\n",
            "Epoch: 40, costo: 0.03279761224985123, accuracy: 0.9794921875\n",
            "Epoch: 60, costo: 0.014379886910319328, accuracy: 0.98193359375\n",
            "Epoch: 80, costo: 0.007539378944784403, accuracy: 0.98095703125\n",
            "com um lr: 0.357 accuracy: 0.985107421875\n",
            "\n",
            "Epoch: 0, costo: 1.4104775190353394, accuracy: 0.598388671875\n",
            "Epoch: 20, costo: 0.06699679046869278, accuracy: 0.9716796875\n",
            "Epoch: 40, costo: 0.03298821300268173, accuracy: 0.979248046875\n",
            "Epoch: 60, costo: 0.030932210385799408, accuracy: 0.976318359375\n",
            "Epoch: 80, costo: 0.014987719245254993, accuracy: 0.981201171875\n",
            "com um lr: 0.399 accuracy: 0.98095703125\n",
            "\n",
            "Epoch: 0, costo: 0.7333242893218994, accuracy: 0.815185546875\n",
            "Epoch: 20, costo: 0.08585595339536667, accuracy: 0.970947265625\n",
            "Epoch: 40, costo: 0.07574711740016937, accuracy: 0.973388671875\n",
            "Epoch: 60, costo: 0.03504634648561478, accuracy: 0.978759765625\n",
            "Epoch: 80, costo: 0.010048680007457733, accuracy: 0.98193359375\n",
            "com um lr: 0.327 accuracy: 0.980224609375\n",
            "\n",
            "Epoch: 0, costo: 0.9637543559074402, accuracy: 0.488525390625\n",
            "Epoch: 20, costo: 0.07087396830320358, accuracy: 0.970458984375\n",
            "Epoch: 40, costo: 0.0246870294213295, accuracy: 0.976806640625\n",
            "Epoch: 60, costo: 0.06908390671014786, accuracy: 0.97314453125\n",
            "Epoch: 80, costo: 0.013226332142949104, accuracy: 0.97802734375\n",
            "com um lr: 0.381 accuracy: 0.97998046875\n",
            "\n",
            "Epoch: 0, costo: 1.1185842752456665, accuracy: 0.757568359375\n",
            "Epoch: 20, costo: 0.08592978119850159, accuracy: 0.970458984375\n",
            "Epoch: 40, costo: 0.03176002576947212, accuracy: 0.97705078125\n",
            "Epoch: 60, costo: 0.015068273060023785, accuracy: 0.98291015625\n",
            "Epoch: 80, costo: 0.006711983121931553, accuracy: 0.981689453125\n",
            "com um lr: 0.369 accuracy: 0.97900390625\n",
            "\n",
            "Epoch: 0, costo: 1.1648612022399902, accuracy: 0.8046875\n",
            "Epoch: 20, costo: 0.0794244334101677, accuracy: 0.969482421875\n",
            "Epoch: 40, costo: 0.035882435739040375, accuracy: 0.97802734375\n",
            "Epoch: 60, costo: 0.0358753427863121, accuracy: 0.97216796875\n",
            "Epoch: 80, costo: 0.028331559151411057, accuracy: 0.974609375\n",
            "com um lr: 0.387 accuracy: 0.97802734375\n",
            "\n"
          ]
        }
      ]
    },
    {
      "cell_type": "code",
      "source": [
        "# Visualizamos os valores de lr em ordem decrescente, NOVAMENTE\n",
        "\n",
        "models_ord = sorted(models.items(), key=lambda x: x[1], reverse = True)\n",
        "\n",
        "models_ord"
      ],
      "metadata": {
        "colab": {
          "base_uri": "https://localhost:8080/"
        },
        "id": "EzIZ0B8g4urU",
        "outputId": "601605ee-4819-4094-9d86-40bbda61610a"
      },
      "execution_count": 40,
      "outputs": [
        {
          "output_type": "execute_result",
          "data": {
            "text/plain": [
              "[(0.357, 0.985107421875),\n",
              " (0.349, 0.984130859375),\n",
              " (0.333, 0.982421875),\n",
              " (0.317, 0.982177734375),\n",
              " (0.399, 0.98095703125),\n",
              " (0.327, 0.980224609375),\n",
              " (0.381, 0.97998046875),\n",
              " (0.365, 0.9794921875),\n",
              " (0.369, 0.97900390625),\n",
              " (0.387, 0.97802734375)]"
            ]
          },
          "metadata": {},
          "execution_count": 40
        }
      ]
    },
    {
      "cell_type": "markdown",
      "source": [
        "<font color=\"orange\">Depois de ajustar o Learning Rate procedemos a Treinar nosso modelo com o melhor valor de $lr=0.357$.</font>"
      ],
      "metadata": {
        "id": "fHeJFWcWCH20"
      }
    },
    {
      "cell_type": "code",
      "source": [
        "#Instanciar modelo\n",
        "hidden1 = 1000 \n",
        "hidden = 1000\n",
        "epochs = 100\n",
        "mb_size = 4096\n",
        "# models = {}\n",
        "# buscar en intervalo [0.001, 1]\n",
        "# for i in range(5):\n",
        "#     j = -3*np.random.rand() # [0, 1]\n",
        "#     lr = 10**j\n",
        "lr = 0.357\n",
        "# lr = random.randrange(200, 400)/1000\n",
        "model1 = nn.Sequential(nn.Linear(in_features=784, out_features=hidden1), nn.ReLU(),\n",
        "                       nn.Linear(in_features=hidden1, out_features=hidden), nn.ReLU(),\n",
        "                       nn.Linear(in_features=hidden, out_features=10))\n",
        "optimiser = torch.optim.SGD(model1.parameters(), lr=lr)\n",
        "train(model1, optimiser, mb_size, epochs)\n",
        "acc = accuracy(model1, x_val_tensor, y_val_tensor, mb_size)\n",
        "print(f'con lr: {lr} accuracy:{acc}')\n",
        "print()\n",
        "# models[lr] = acc "
      ],
      "metadata": {
        "colab": {
          "base_uri": "https://localhost:8080/"
        },
        "id": "da85hoTz4uok",
        "outputId": "a77d636a-a9cd-424a-d66e-dca0e5ae6f1d"
      },
      "execution_count": 41,
      "outputs": [
        {
          "output_type": "stream",
          "name": "stdout",
          "text": [
            "Epoch: 0, costo: 0.8130983114242554, accuracy: 0.84765625\n",
            "Epoch: 20, costo: 0.07844226807355881, accuracy: 0.973876953125\n",
            "Epoch: 40, costo: 0.028735565021634102, accuracy: 0.97705078125\n",
            "Epoch: 60, costo: 0.06932836025953293, accuracy: 0.971923828125\n",
            "Epoch: 80, costo: 0.03191237151622772, accuracy: 0.977294921875\n",
            "con lr: 0.357 accuracy:0.979248046875\n",
            "\n"
          ]
        }
      ]
    },
    {
      "cell_type": "code",
      "source": [
        "accuracy(model1, x_test_tensor, y_test_tensor, mb_size)"
      ],
      "metadata": {
        "colab": {
          "base_uri": "https://localhost:8080/"
        },
        "id": "XTqA5tQe4uld",
        "outputId": "0d6b21aa-b6f9-47a7-b224-9cc32c8531ed"
      },
      "execution_count": 42,
      "outputs": [
        {
          "output_type": "execute_result",
          "data": {
            "text/plain": [
              "0.977783203125"
            ]
          },
          "metadata": {},
          "execution_count": 42
        }
      ]
    }
  ]
}